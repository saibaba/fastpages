{
  "nbformat": 4,
  "nbformat_minor": 0,
  "metadata": {
    "colab": {
      "name": "MultiVariateNormalInferenceIris.ipynb",
      "provenance": [],
      "collapsed_sections": []
    },
    "kernelspec": {
      "name": "python3",
      "display_name": "Python 3"
    },
    "language_info": {
      "name": "python"
    }
  },
  "cells": [
    {
      "cell_type": "markdown",
      "metadata": {
        "id": "_sy79C6fw6s-"
      },
      "source": [
        "# \"Statistical Inference on Iris data\"\n",
        "> \"Understand how to use univariate and multivariate normal distribution in inference\"\n",
        "\n",
        "- toc: false\n",
        "- branch: master\n",
        "- badges: true\n",
        "- comments: true\n",
        "- author: Saibaba Telukunta\n",
        "- categories: [iris, multivariate, univariate, normal_distribution]"
      ]
    },
    {
      "cell_type": "markdown",
      "metadata": {
        "id": "4WBuD3G4FQci"
      },
      "source": [
        "Introduction\n",
        "---\n",
        "\n",
        "This article assumes that reader is familiar with coding, basic probability theory including normal distributions (univariate, multivariate or MVN), and usage of python libraries like numpy, tensorflow.\n",
        "\n",
        "Say, we are given a data point $x$ which is a d-dimensional feature vector. We are asked to classify, which category could it fit in one of the given $c$ categories. Let $w_i$ represent the $i^{th}$ categor. Let $W$ be a random variable representing the category.\n",
        "\n",
        "If we do not care about the content/features of $x$, we can just see which category occurs most abundantly and assign that class as the category for the data point. Let's call this blind assignment. More precisely, we check which of all probabilities, $P(W=w_i)$ is the highest, and assign $x$ to it without much thinking. But we know that is not the right answer as we end up assigning all data points to the most popular one (or randomly if all occur equally abundantly). It becomes more troublesome particularly when mis-assignment could lead to risks or penalties. So, what can we do?\n",
        "\n",
        "We could dive deep into $x$ and check which of the categories are better representative of the features present in $x$. Of these, pick the one that best represents these features. Hence, by looking at the evidence $x$, we adjust our decision of which class to use (bayes theorem).\n",
        "\n",
        "$P(W=w_i|X=x) = \\frac{P(X=x|W=w_i) * P(W=w_i)}{\\sum_i P(X=x|W=w_i) * P(W=w_i)}$\n",
        "\n",
        "Ignoring the denominator as it is the same for all categories, we are now looking at $P(X=x|W=w_i) * P(W=w_i)$ to make decision.\n",
        "\n",
        "But, where do we get $P(W=w_i)$ and $P(X=x|W=w_i)$ from? Well, $P(W=w_i)$ is needed anyway even for blind assignment case.\n",
        "\n",
        "So, how do we determine these probabilities? There are two key questions that need to be answered:\n",
        "* Shape / PDF\n",
        "* Parameters of the PDF once we decided a PDF. \n",
        "\n",
        "**How do we determine PDF?**\n",
        "\n",
        "Let's say PDF has been determined using some domain/background knowledge, or making some assumptions by looking at descriptive statistics, or conducting some tests.\n",
        "\n",
        "**How do we estimate the parameters ?**\n",
        "\n",
        "We could gather some representative data D and use any of estimation techniques.\n",
        "\n",
        "For example, we can use the maximum likelihood estimate or MLE of the chosen PDF to compute $P(W=w_i)$. That is not a problem except in cases where we might not have correct proportion of them that reflect true population. Let's ignore it for now and assume that sample reflects correct proportion of categories.\n",
        "\n",
        "The bigger problem is computing $P(X|W=w_i)$ using the same D. Why? In D, for a given $W=w_i$, there are in general very few entries that correspond to each possible combination of features. If $x$ has lot of features, to cover for each feature combination in $x$, we need large (exponential) number of examples to get a useful representation of them for estimating the conditional probabilities.\n",
        "\n",
        "As a side note, there are other issues in applying MLE to find $P(X|W=w_i)$:\n",
        "* Consider the case where a particular feature vector with specific values for each dimension did not occur in the data at all. We cannot use 0 as the probability, but a low prior probability. So, instead of MLE we should use bayes posterior.\n",
        "* There is another problem with MLE: it does not treat that observing 6 heads out 10 coin flips different from 60 out of 100. MLE estimate is still 0.6. But we know with 100, we are more confident. So, instead of MLE we should again use bayes posterior.\n",
        "* MLE relies too much on the D, so biased towards it.\n",
        "\n",
        "In summary, here are the key limitations in learning from data: If we can leverage more dimensions to make decision, we could be performing better. But, that also means we need more data so that it covers the various permutations of the features values. This also means we need more computing power. So, we have to make a trade off here between the number of features vs. available data vs. computing power we have.\n",
        "\n",
        "In any case, once we determine the posterior probabilities for each catagory using the sample dataset D, we can then plug in feature values in $x$ to find the category that has highest posterior probability and we assign that category to $x$. There are other ways to, but I am keeping it simple for now."
      ]
    },
    {
      "cell_type": "markdown",
      "metadata": {
        "id": "-CuoAlIlJOIL"
      },
      "source": [
        "An example\n",
        "---\n",
        "\n",
        "Let's demonstrate above concepts through an example using the well known Iris dataset."
      ]
    },
    {
      "cell_type": "code",
      "metadata": {
        "id": "Ih0HdPlNtAS3"
      },
      "source": [
        "!pip install pingouin"
      ],
      "execution_count": null,
      "outputs": []
    },
    {
      "cell_type": "code",
      "metadata": {
        "id": "xBFVKlRzsZ3T"
      },
      "source": [
        "import matplotlib.pyplot as plt\n",
        "import numpy as np\n",
        "from numpy import linspace\n",
        "\n",
        "import tensorflow as tf\n",
        "import tensorflow_datasets as tfds\n",
        "import tensorflow_probability as tfp\n",
        "tfd = tfp.distributions\n",
        "\n",
        "from sklearn import datasets\n",
        "from sklearn.model_selection import train_test_split\n",
        "\n",
        "from scipy.interpolate import UnivariateSpline\n",
        "from scipy.stats.kde import gaussian_kde\n",
        "\n",
        "from pingouin import multivariate_normality\n",
        "\n",
        "import operator\n",
        "import math as m"
      ],
      "execution_count": 2,
      "outputs": []
    },
    {
      "cell_type": "code",
      "metadata": {
        "id": "AgohvQPRtTU9"
      },
      "source": [
        "pi = tf.constant(m.pi)\n",
        "\n",
        "plt.rcParams[\"axes.grid\"] = False\n",
        "\n",
        "setosa = 0\n",
        "versicolor = 1\n",
        "virginica = 2\n",
        "\n",
        "labels = ['setosa', 'versicolor', 'virginica']\n",
        "sepal_length = 0\n",
        "sepal_width = 1\n",
        "petal_length = 2\n",
        "petal_width = 3\n",
        "\n",
        "marker_setosa = 's'\n",
        "color_setosa = 'b'\n",
        "marker_versicolor = 'o'\n",
        "color_versicolor = 'r'\n",
        "marker_virginica = 'v'\n",
        "color_virginica = 'g'    \n"
      ],
      "execution_count": 3,
      "outputs": []
    },
    {
      "cell_type": "code",
      "metadata": {
        "colab": {
          "base_uri": "https://localhost:8080/"
        },
        "id": "GGsAB7DXjmOf",
        "outputId": "09ad74bf-1cbf-4c29-edc5-481f77bef27d"
      },
      "source": [
        "iris = datasets.load_iris()\n",
        "print(iris.DESCR)"
      ],
      "execution_count": 4,
      "outputs": [
        {
          "output_type": "stream",
          "text": [
            ".. _iris_dataset:\n",
            "\n",
            "Iris plants dataset\n",
            "--------------------\n",
            "\n",
            "**Data Set Characteristics:**\n",
            "\n",
            "    :Number of Instances: 150 (50 in each of three classes)\n",
            "    :Number of Attributes: 4 numeric, predictive attributes and the class\n",
            "    :Attribute Information:\n",
            "        - sepal length in cm\n",
            "        - sepal width in cm\n",
            "        - petal length in cm\n",
            "        - petal width in cm\n",
            "        - class:\n",
            "                - Iris-Setosa\n",
            "                - Iris-Versicolour\n",
            "                - Iris-Virginica\n",
            "                \n",
            "    :Summary Statistics:\n",
            "\n",
            "    ============== ==== ==== ======= ===== ====================\n",
            "                    Min  Max   Mean    SD   Class Correlation\n",
            "    ============== ==== ==== ======= ===== ====================\n",
            "    sepal length:   4.3  7.9   5.84   0.83    0.7826\n",
            "    sepal width:    2.0  4.4   3.05   0.43   -0.4194\n",
            "    petal length:   1.0  6.9   3.76   1.76    0.9490  (high!)\n",
            "    petal width:    0.1  2.5   1.20   0.76    0.9565  (high!)\n",
            "    ============== ==== ==== ======= ===== ====================\n",
            "\n",
            "    :Missing Attribute Values: None\n",
            "    :Class Distribution: 33.3% for each of 3 classes.\n",
            "    :Creator: R.A. Fisher\n",
            "    :Donor: Michael Marshall (MARSHALL%PLU@io.arc.nasa.gov)\n",
            "    :Date: July, 1988\n",
            "\n",
            "The famous Iris database, first used by Sir R.A. Fisher. The dataset is taken\n",
            "from Fisher's paper. Note that it's the same as in R, but not as in the UCI\n",
            "Machine Learning Repository, which has two wrong data points.\n",
            "\n",
            "This is perhaps the best known database to be found in the\n",
            "pattern recognition literature.  Fisher's paper is a classic in the field and\n",
            "is referenced frequently to this day.  (See Duda & Hart, for example.)  The\n",
            "data set contains 3 classes of 50 instances each, where each class refers to a\n",
            "type of iris plant.  One class is linearly separable from the other 2; the\n",
            "latter are NOT linearly separable from each other.\n",
            "\n",
            ".. topic:: References\n",
            "\n",
            "   - Fisher, R.A. \"The use of multiple measurements in taxonomic problems\"\n",
            "     Annual Eugenics, 7, Part II, 179-188 (1936); also in \"Contributions to\n",
            "     Mathematical Statistics\" (John Wiley, NY, 1950).\n",
            "   - Duda, R.O., & Hart, P.E. (1973) Pattern Classification and Scene Analysis.\n",
            "     (Q327.D83) John Wiley & Sons.  ISBN 0-471-22361-1.  See page 218.\n",
            "   - Dasarathy, B.V. (1980) \"Nosing Around the Neighborhood: A New System\n",
            "     Structure and Classification Rule for Recognition in Partially Exposed\n",
            "     Environments\".  IEEE Transactions on Pattern Analysis and Machine\n",
            "     Intelligence, Vol. PAMI-2, No. 1, 67-71.\n",
            "   - Gates, G.W. (1972) \"The Reduced Nearest Neighbor Rule\".  IEEE Transactions\n",
            "     on Information Theory, May 1972, 431-433.\n",
            "   - See also: 1988 MLC Proceedings, 54-64.  Cheeseman et al\"s AUTOCLASS II\n",
            "     conceptual clustering system finds 3 classes in the data.\n",
            "   - Many, many more ...\n"
          ],
          "name": "stdout"
        }
      ]
    },
    {
      "cell_type": "markdown",
      "metadata": {
        "id": "suUS2xPWJqCi"
      },
      "source": [
        "So, there are 4 features (dimensions): sepal length, sepal width, petal length, petal width.\n",
        "And there are 3 categories or classes: setosa, versicolor, virginica.\n",
        "\n",
        "And there are equal distribution of data across all classes (50 each). So $P(W=w_i) = \\frac{1}{3}$ and hence effectively can be ignored in the posterior probability calculation. We also ignore the denominator as it is the same for all categories.\n",
        "\n",
        "So, if we need to categerozie an unlabelled flower,  with blind assignment, we do not have a clear winner, but randomly assign to one of the classes. We know it won't perform well as we could be wrong 2 out of 3 times on average in the long run.\n",
        "\n",
        "Since petal length and width have high correlation with the class, lets see if we can use use these features of the unlabelled flower and make a better determination of the category to which it belongs.\n",
        "\n",
        "Let's also do a couple of things (1) shuffle and pick 100 records out of 150. We use them for estmating parameters and validation (2) We use the remaining 50 to assess performance on new data."
      ]
    },
    {
      "cell_type": "code",
      "metadata": {
        "id": "GqQLWk_NJpP8"
      },
      "source": [
        "data, target = iris.data, iris.target\n",
        "\n",
        "x_train, x_test, y_train, y_test = train_test_split(data, target, test_size=0.2, random_state=123)\n",
        "\n",
        "X = x_train[:, 2:]  # we only take the last two features, petal_length, petal_width\n",
        "y = y_train\n",
        "\n",
        "X_test = x_test[:, 2:]\n",
        "\n",
        "setosa_indexes = np.array(y==setosa)\n",
        "X_train_setosa = X[setosa_indexes]\n",
        "y_tranin_setosa = y[setosa_indexes]\n",
        "\n",
        "versicolor_indexes = np.array(y==versicolor)\n",
        "X_train_versicolor = X[versicolor_indexes]\n",
        "y_train_versicolor = y[versicolor_indexes]\n",
        "\n",
        "virginica_indexes = np.array(y==virginica)\n",
        "X_train_virginica = X[virginica_indexes]\n",
        "y_train_virginica = y[virginica_indexes]\n",
        "\n",
        "test_setosa_indexes = np.array(y_test==setosa)\n",
        "X_test_setosa = X_test[test_setosa_indexes]\n",
        "test_versicolor_indexes = np.array(y_test==versicolor)\n",
        "X_test_versicolor = X_test[test_versicolor_indexes]\n",
        "test_virginica_indexes = np.array(y_test==virginica)\n",
        "X_test_virginica = X_test[test_virginica_indexes]"
      ],
      "execution_count": 5,
      "outputs": []
    },
    {
      "cell_type": "markdown",
      "metadata": {
        "id": "yFleyGUlr4C1"
      },
      "source": [
        "First, let's visually see how the distribution of data looks like across categories using petal length as feature to check."
      ]
    },
    {
      "cell_type": "code",
      "metadata": {
        "id": "M5H9jP-icPBo"
      },
      "source": [
        "# plot data as probability (value vs. count)\n",
        "def plot_prob(data, l):\n",
        "    # this create the kernel, given an array it will estimate the probability over that values\n",
        "    kde = gaussian_kde( data )\n",
        "    # these are the values over wich your kernel will be evaluated\n",
        "    dist_space = linspace( min(data), max(data), 100 )\n",
        "    # plot the results\n",
        "    plt.plot( dist_space, kde(dist_space), label=l )\n",
        "    plt.xlabel('petal length')\n",
        "    plt.ylabel('count')"
      ],
      "execution_count": 6,
      "outputs": []
    },
    {
      "cell_type": "code",
      "metadata": {
        "colab": {
          "base_uri": "https://localhost:8080/",
          "height": 296
        },
        "id": "aE4zmN1MkdgQ",
        "outputId": "22d1f449-984e-4ecb-b9c0-57e89d6394ec"
      },
      "source": [
        "# distribution of petal length in each class\n",
        "plt.legend(loc='upper right')\n",
        "\n",
        "plot_prob(X_train_setosa[:, 0], 'setosa')\n",
        "plot_prob(X_train_versicolor[:, 0], 'versicolor')\n",
        "plot_prob(X_train_virginica[:, 0], 'virginica')\n",
        "plt.show()"
      ],
      "execution_count": 7,
      "outputs": [
        {
          "output_type": "stream",
          "text": [
            "No handles with labels found to put in legend.\n"
          ],
          "name": "stderr"
        },
        {
          "output_type": "display_data",
          "data": {
            "image/png": "[encoded data removed]",
            "text/plain": [
              "<Figure size 432x288 with 1 Axes>"
            ]
          },
          "metadata": {
            "tags": [],
            "needs_background": "light"
          }
        }
      ]
    },
    {
      "cell_type": "markdown",
      "metadata": {
        "id": "r_H1V2C1p391"
      },
      "source": [
        "Looks like there is some discriminating power to petal length. Also, notice that not ideal, but with in each category, the records are distributed symmetrically around mean and probability decreasing as moving away from the mean. So, let's use normal distribution as the PDF. There is a troublesome interval [4.5, 5] of the petal length where we could not positively conclude if the record belongs to versicolor or virginica. But, let's try anyway and see where it takes us.\n",
        "\n",
        "We need to estimate the mean and variance from the the sample of 100 records."
      ]
    },
    {
      "cell_type": "code",
      "metadata": {
        "id": "TPLqKER2rF67"
      },
      "source": [
        "class NormalCategory:\n",
        "    def __init__(self, data, ndim):\n",
        "        self.ndim = ndim\n",
        "        if ndim == 1:\n",
        "            self.data = data\n",
        "            self.mean, self.var =  np.mean(data), np.var(data)\n",
        "            self.gauss = tfd.Normal(self.mean, np.sqrt(self.var))\n",
        "        elif ndim == 2:\n",
        "\n",
        "            # For MVNm we need mean vector and covariance matrix.\n",
        "            self.data = tf.constant( [ [a, b] for (a, b) in zip(data[:, 0], data[:, 1]) ])    \n",
        "            self.m, self.v = tf.nn.moments(self.data, axes=[0])\n",
        "            # self.cov = tfp.stats.covariance(self.data, sample_axis=0, event_axis=1, keepdims=False)\n",
        "            # hand calculate covariance just to shed more light on how it is done\n",
        "            self.__cov__()\n",
        "            self.gauss = tfd.MultivariateNormalFullCovariance(loc=self.m, covariance_matrix=self.cov)\n",
        "            # self.gauss =  MultivariateNormalTriL(loc=self.m, scale_tril=tf.linalg.cholesky(self.cov))\n",
        "\n",
        "    # Not a true posterior, but a stand-in for it since we are igning the common denominator\n",
        "    def posterior(self, x):\n",
        "        return self.gauss.prob(x).numpy()\n",
        "\n",
        "    def __cov__(self):\n",
        "        demeaned = self.data - self.m\n",
        "        n = self.data.shape[0]\n",
        "        demeanedT = tf.transpose(demeaned)\n",
        "        self.cov = tf.tensordot(demeanedT, demeaned, axes=1)/(n)"
      ],
      "execution_count": 8,
      "outputs": []
    },
    {
      "cell_type": "code",
      "metadata": {
        "id": "Wspr5Mmtr8vL"
      },
      "source": [
        "class InferenceEngine:\n",
        "    def __init__(self):\n",
        "        self.correct = 0\n",
        "        self.wrong = 0\n",
        "        self.categories = []\n",
        "        self.labels = []\n",
        "\n",
        "    def add_category(self, cat, label):\n",
        "        self.categories.append(cat)\n",
        "        self.labels.append(label)\n",
        "\n",
        "    def predict(self, a):\n",
        "        my_list = [cat.posterior(a) for cat in self.categories]\n",
        "        ndx, m = max(enumerate(my_list), key=operator.itemgetter(1))\n",
        "        return (ndx, self.labels[ndx])"
      ],
      "execution_count": 9,
      "outputs": []
    },
    {
      "cell_type": "code",
      "metadata": {
        "id": "5l5jJAxoVn4D"
      },
      "source": [
        "class IrisVerifier:\n",
        "\n",
        "    def __init__(self, engine, ndim):\n",
        "        self.correct = 0\n",
        "        self.wrong = 0\n",
        "        self.ndim = ndim\n",
        "        self.engine = engine\n",
        "\n",
        "\n",
        "    def __validate__(self, data, expected_index, unexpected_index_1, unexpected_index_2):\n",
        "\n",
        "        result_expected = []\n",
        "        result_unexpected_1 = []\n",
        "        result_unexpected_2 = []\n",
        "        for xy in zip(data[:, 0], data[:, 1]):\n",
        "            a, b = xy[0], xy[1]\n",
        "            if self.ndim == 1:\n",
        "                p, lbl  = engine.predict(a)\n",
        "            elif self.ndim == 2:\n",
        "                p, lbl  = engine.predict([a, b])\n",
        "\n",
        "            if (p == expected_index):\n",
        "                result_expected.append((a,b))\n",
        "                self.correct += 1\n",
        "            if (p == unexpected_index_1):\n",
        "                result_unexpected_1.append((a, b))\n",
        "                self.wrong += 1\n",
        "            if (p == unexpected_index_2):\n",
        "                result_unexpected_2.append((a, b))\n",
        "                self.wrong += 1 \n",
        "        \n",
        "        return (result_expected, result_unexpected_1, result_unexpected_2)\n",
        "\n",
        "    def verify(self, setosa_data, versicolor_data, virginica_data):\n",
        "        validate_setosa_setosa,  validate_setosa_versicolor, validate_setosa_virginica = self.__validate__(setosa_data, 0, 1, 2)\n",
        "        print(\"setosa marked as versicolor: \", validate_setosa_versicolor)\n",
        "        print(\"setosa marked as virginica: \", validate_setosa_virginica)\n",
        "\n",
        "        validate_versicolor_versicolor, validate_versicolor_setosa, validate_versicolor_virginica= self.__validate__(versicolor_data, 1, 0, 2)   \n",
        "        print(\"versicolor marked as setosa: \", validate_versicolor_setosa)\n",
        "        print(\"versicolor marked as virginica: \", validate_versicolor_virginica)\n",
        "\n",
        "        validate_virgenica_virgenica, validate_virgenica_setosa, validate_virginica_versicolor = self.__validate__(virginica_data, 2, 0, 1)    \n",
        "        print(\"virginica marked as setosa: \", validate_virgenica_setosa)\n",
        "        print(\"virginica marked as versicolor: \", validate_virginica_versicolor)"
      ],
      "execution_count": 10,
      "outputs": []
    },
    {
      "cell_type": "markdown",
      "metadata": {
        "id": "gifG2iV7sgAl"
      },
      "source": [
        "Let's use that and see what kind of performance we get."
      ]
    },
    {
      "cell_type": "code",
      "metadata": {
        "colab": {
          "base_uri": "https://localhost:8080/"
        },
        "id": "HMWNHpmLr_J_",
        "outputId": "19fc6f96-ab1c-4933-9c73-5e450e9212d7"
      },
      "source": [
        "cat_setosa  = NormalCategory(X_train_setosa[:, 0], 1)\n",
        "cat_versicolor = NormalCategory(X_train_versicolor[:, 0], 1)\n",
        "cat_virginica = NormalCategory(X_train_virginica[:, 0], 1)\n",
        "\n",
        "engine = InferenceEngine()\n",
        "\n",
        "engine.add_category(cat_setosa, \"setosa\")\n",
        "engine.add_category(cat_versicolor, \"versicolor\")\n",
        "engine.add_category(cat_virginica, \"virginica\")\n",
        "\n",
        "verifier = IrisVerifier(engine, 1)\n",
        "\n",
        "print(\"Verify train data...\")\n",
        "verifier.verify(X_train_setosa, X_train_versicolor, X_train_virginica)\n",
        "\n",
        "print(\"\")\n",
        "\n",
        "print(\"Verify test data...\")\n",
        "verifier.verify(X_test_setosa, X_test_versicolor, X_test_virginica)\n",
        "\n",
        "print(\"Total correct = \" , verifier.correct)\n",
        "print(\"Total wrong = \", verifier.wrong)\n",
        "print(\"% correct: \", round(verifier.correct*100/150, 2))"
      ],
      "execution_count": 11,
      "outputs": [
        {
          "output_type": "stream",
          "text": [
            "Verify train data...\n",
            "setosa marked as versicolor:  []\n",
            "setosa marked as virginica:  []\n",
            "versicolor marked as setosa:  []\n",
            "versicolor marked as virginica:  [(5.0, 1.7), (4.9, 1.5), (5.1, 1.6)]\n",
            "virginica marked as setosa:  []\n",
            "virginica marked as versicolor:  [(4.5, 1.7), (4.8, 1.8)]\n",
            "\n",
            "Verify test data...\n",
            "setosa marked as versicolor:  []\n",
            "setosa marked as virginica:  []\n",
            "versicolor marked as setosa:  []\n",
            "versicolor marked as virginica:  [(4.9, 1.5)]\n",
            "virginica marked as setosa:  []\n",
            "virginica marked as versicolor:  [(4.8, 1.8)]\n",
            "Total correct =  143\n",
            "Total wrong =  7\n",
            "% correct:  95.33\n"
          ],
          "name": "stdout"
        }
      ]
    },
    {
      "cell_type": "markdown",
      "metadata": {
        "id": "rdtmibsWrQBJ"
      },
      "source": [
        "Not bad at all, we got more than 95% success. Let's see if we can improve by considering one more feature: petal width."
      ]
    },
    {
      "cell_type": "code",
      "metadata": {
        "colab": {
          "base_uri": "https://localhost:8080/",
          "height": 714
        },
        "id": "G8rYtDTJXRjc",
        "outputId": "4609d7be-5d48-4b66-e74f-b73f4ac02ee1"
      },
      "source": [
        "def plot_petal_length_vs_width():\n",
        "    fig = plt.figure(figsize=(12, 12))\n",
        "    ax = fig.add_subplot(111)\n",
        "\n",
        "    ax.scatter(X_train_setosa[:, 0], X_train_setosa[:, 1], marker=marker_setosa, edgecolor=color_setosa, facecolors='none', label='setosa')\n",
        "    ax.scatter(X_train_versicolor[:, 0], X_train_versicolor[:, 1], marker=marker_versicolor, edgecolor=color_versicolor, facecolors='none', label='versicolor')\n",
        "    ax.scatter(X_train_virginica[:, 0], X_train_virginica[:, 1], marker=marker_virginica, edgecolor=color_virginica, facecolors='none', label='virginica')\n",
        "    plt.xlabel('petal length')\n",
        "    plt.ylabel('petal wdith')\n",
        "    plt.legend(loc='upper left')\n",
        "    plt.show()\n",
        "\n",
        "plot_petal_length_vs_width()"
      ],
      "execution_count": 12,
      "outputs": [
        {
          "output_type": "display_data",
          "data": {
            "image/png": "[encoded data removed]",
            "text/plain": [
              "<Figure size 864x864 with 1 Axes>"
            ]
          },
          "metadata": {
            "tags": [],
            "needs_background": "light"
          }
        }
      ]
    },
    {
      "cell_type": "markdown",
      "metadata": {
        "id": "ovgUu1AI7BUh"
      },
      "source": [
        "We can see that setosa has small petal length and width. Versiclor has medium values and virginica has the maximum values for the same. And little to no overlap.\n",
        "\n",
        "So, we could potentially use the petal length along with petal width to differentiate any one from the other two. It does not seem to help much to use both w.r.t. setosa. But it seems that some of the overlap can be avoided between veriscolor and virginca if we use both features. For example for the same petal length, higher petal widths seem to have better chance of belonging to virginica than versicolor.\n",
        "\n",
        "Now that is out of the way, let's see if we can use multivariate normal PDF.\n",
        "\n",
        "Let's first compare the emperical CDF with that of normal CDF having the same parameters as that of sample."
      ]
    },
    {
      "cell_type": "code",
      "metadata": {
        "id": "yxj3m5Ch-wJe"
      },
      "source": [
        "def ecdf(data):\n",
        "    sz = len(data)\n",
        "    values = np.sort(data)\n",
        "    probs = np.arange(1, sz + 1) / sz\n",
        "    return values, probs\n",
        "\n",
        "def normal_data(mu, sd):\n",
        "    return np.random.normal(mu, sd, 100)\n",
        "\n",
        "def ecdf_plot(data, c, label):\n",
        "    mu = data.mean()\n",
        "    sd = data.std();\n",
        "    a, b = ecdf(data)\n",
        "    na, nb = ecdf(normal_data(mu, sd))\n",
        "    plt.plot(na, nb, marker='.', color='black', linestyle='none', label='normal')\n",
        "    plt.plot(a, b, marker='.', color=c, linestyle='none', label=label)\n",
        "    plt.legend(loc='upper left')\n",
        "    plt.show()"
      ],
      "execution_count": 13,
      "outputs": []
    },
    {
      "cell_type": "code",
      "metadata": {
        "colab": {
          "base_uri": "https://localhost:8080/",
          "height": 513
        },
        "id": "mq9dHy8_nWOV",
        "outputId": "55ed845b-3944-4398-a924-7a7918151a93"
      },
      "source": [
        "ecdf_plot(X_train_setosa[:, 0], color_setosa, 'setosa petal length')\n",
        "ecdf_plot(X_train_setosa[:, 1], color_setosa, 'setosa petal width')"
      ],
      "execution_count": 14,
      "outputs": [
        {
          "output_type": "display_data",
          "data": {
            "image/png": "[encoded data removed]",
            "text/plain": [
              "<Figure size 432x288 with 1 Axes>"
            ]
          },
          "metadata": {
            "tags": [],
            "needs_background": "light"
          }
        },
        {
          "output_type": "display_data",
          "data": {
            "image/png": "[encoded data removed]",
            "text/plain": [
              "<Figure size 432x288 with 1 Axes>"
            ]
          },
          "metadata": {
            "tags": [],
            "needs_background": "light"
          }
        }
      ]
    },
    {
      "cell_type": "code",
      "metadata": {
        "colab": {
          "base_uri": "https://localhost:8080/",
          "height": 513
        },
        "id": "6mK7bGCzLNKA",
        "outputId": "1a39b65a-468c-4faf-df6a-481028f1f9b0"
      },
      "source": [
        "ecdf_plot(X_train_versicolor[:, 0], color_versicolor, 'versicolor petal length')\n",
        "ecdf_plot(X_train_versicolor[:, 1], color_versicolor, 'versicolor petal width')"
      ],
      "execution_count": 15,
      "outputs": [
        {
          "output_type": "display_data",
          "data": {
            "image/png": "[encoded data removed]",
            "text/plain": [
              "<Figure size 432x288 with 1 Axes>"
            ]
          },
          "metadata": {
            "tags": [],
            "needs_background": "light"
          }
        },
        {
          "output_type": "display_data",
          "data": {
            "image/png": "[encoded data removed]",
            "text/plain": [
              "<Figure size 432x288 with 1 Axes>"
            ]
          },
          "metadata": {
            "tags": [],
            "needs_background": "light"
          }
        }
      ]
    },
    {
      "cell_type": "code",
      "metadata": {
        "colab": {
          "base_uri": "https://localhost:8080/",
          "height": 513
        },
        "id": "3JbDFIBcLfKS",
        "outputId": "60c1a18b-28d3-4896-ea0d-cc0306bdba47"
      },
      "source": [
        "ecdf_plot(X_train_virginica[:, 0], color_virginica, 'virginica petal length')\n",
        "ecdf_plot(X_train_virginica[:, 1], color_virginica, 'virginica petal width')"
      ],
      "execution_count": 16,
      "outputs": [
        {
          "output_type": "display_data",
          "data": {
            "image/png": "[encoded data removed]",
            "text/plain": [
              "<Figure size 432x288 with 1 Axes>"
            ]
          },
          "metadata": {
            "tags": [],
            "needs_background": "light"
          }
        },
        {
          "output_type": "display_data",
          "data": {
            "image/png": "[encoded data removed]",
            "text/plain": [
              "<Figure size 432x288 with 1 Axes>"
            ]
          },
          "metadata": {
            "tags": [],
            "needs_background": "light"
          }
        }
      ]
    },
    {
      "cell_type": "markdown",
      "metadata": {
        "id": "_M5EUHLeobvF"
      },
      "source": [
        "By looking at [emperical CDF](https://en.wikipedia.org/wiki/Empirical_distribution_function#:~:text=In%20statistics%2C%20an%20empirical%20distribution,of%20the%20n%20data%20points) above, although not the best, normal distribution seems like a good probability distribution to try for each category. Each category has its own mean and standard deviation. And with in each category, the records are distributed normally w.r.t. the petal length and width. Loosely, this means that close to the mean of petal length and width there are more records. Symmetrically across going away from the mean point, the rate of decrease of number of records is proportional to the distance from the mean position.\n",
        "\n",
        "Even if we can approximate normal distribution for individual features, we still cannot not infer that the joint distribution is MVN. But, let's do some multivariate normality test on these two features and see how good of a fit MVN is."
      ]
    },
    {
      "cell_type": "code",
      "metadata": {
        "colab": {
          "base_uri": "https://localhost:8080/"
        },
        "id": "jHBcuDzztVvI",
        "outputId": "fe5263af-7387-43b5-db49-d7db619f33a8"
      },
      "source": [
        "print(multivariate_normality(X_train_setosa, alpha=.05))\n",
        "print(multivariate_normality(X_train_versicolor, alpha=.05))\n",
        "print(multivariate_normality(X_train_virginica, alpha=.05))"
      ],
      "execution_count": 17,
      "outputs": [
        {
          "output_type": "stream",
          "text": [
            "HZResults(hz=1.1753710379171047, pval=0.005520836229792665, normal=False)\n",
            "HZResults(hz=0.4380030238479655, pval=0.5573179370556999, normal=True)\n",
            "HZResults(hz=0.8731316923946509, pval=0.04085997245484832, normal=False)\n"
          ],
          "name": "stdout"
        }
      ]
    },
    {
      "cell_type": "markdown",
      "metadata": {
        "id": "G11be5whtXkf"
      },
      "source": [
        "Not great, but not very bad for the versicolor and virginica. Since this is mostly for educational purpose only, lets go with MVN and see where it takes us.\n"
      ]
    },
    {
      "cell_type": "code",
      "metadata": {
        "colab": {
          "base_uri": "https://localhost:8080/"
        },
        "id": "KTjFaHldjygG",
        "outputId": "2ffdee04-b1ae-4314-bbc2-51bd6f01193f"
      },
      "source": [
        "cat_setosa = NormalCategory(X_train_setosa, 2)\n",
        "cat_versicolor = NormalCategory(X_train_versicolor, 2)\n",
        "cat_virginica = NormalCategory(X_train_virginica, 2)\n",
        "\n",
        "engine = InferenceEngine()\n",
        "\n",
        "engine.add_category(cat_setosa, \"setosa\")\n",
        "engine.add_category(cat_versicolor, \"versicolor\")\n",
        "engine.add_category(cat_virginica, \"virginica\")\n",
        "\n",
        "verifier = IrisVerifier(engine, 2)\n",
        "\n",
        "print(\"Verify train data...\")\n",
        "verifier.verify(X_train_setosa, X_train_versicolor, X_train_virginica)\n",
        "print(\"\")\n",
        "\n",
        "print(\"Verify test data...\")\n",
        "verifier.verify(X_test_setosa, X_test_versicolor, X_test_virginica)\n",
        "\n",
        "print(\"Total correct = \" , verifier.correct)\n",
        "print(\"Total wrong = \", verifier.wrong)\n",
        "print(\"% correct: \", round(verifier.correct*100/150, 2))"
      ],
      "execution_count": 18,
      "outputs": [
        {
          "output_type": "stream",
          "text": [
            "WARNING:tensorflow:From /usr/local/lib/python3.7/dist-packages/tensorflow_probability/python/distributions/distribution.py:346: MultivariateNormalFullCovariance.__init__ (from tensorflow_probability.python.distributions.mvn_full_covariance) is deprecated and will be removed after 2019-12-01.\n",
            "Instructions for updating:\n",
            "`MultivariateNormalFullCovariance` is deprecated, use `MultivariateNormalTriL(loc=loc, scale_tril=tf.linalg.cholesky(covariance_matrix))` instead.\n",
            "Verify train data...\n",
            "setosa marked as versicolor:  []\n",
            "setosa marked as virginica:  []\n",
            "versicolor marked as setosa:  []\n",
            "versicolor marked as virginica:  [(4.8, 1.8)]\n",
            "virginica marked as setosa:  []\n",
            "virginica marked as versicolor:  [(5.0, 1.5), (4.5, 1.7)]\n",
            "\n",
            "Verify test data...\n",
            "setosa marked as versicolor:  []\n",
            "setosa marked as virginica:  []\n",
            "versicolor marked as setosa:  []\n",
            "versicolor marked as virginica:  []\n",
            "virginica marked as setosa:  []\n",
            "virginica marked as versicolor:  [(5.1, 1.5)]\n",
            "Total correct =  146\n",
            "Total wrong =  4\n",
            "% correct:  97.33\n"
          ],
          "name": "stdout"
        }
      ]
    },
    {
      "cell_type": "markdown",
      "metadata": {
        "id": "tbkmnSVwtutC"
      },
      "source": [
        "It seems performance is little better than with univariate normal distribution."
      ]
    },
    {
      "cell_type": "markdown",
      "metadata": {
        "id": "_mH0_K3kuXGE"
      },
      "source": [
        "I will leave it as exercise to study each mis-classified flower due to higher probability assigned to the corresponding category at the petal length/width of the flower."
      ]
    }
  ]
}